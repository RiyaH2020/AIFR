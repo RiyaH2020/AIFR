{
  "nbformat": 4,
  "nbformat_minor": 0,
  "metadata": {
    "colab": {
      "provenance": [],
      "mount_file_id": "1uMKac7BcZNGCXKC7c0THn3-qtbcy7Dkm",
      "authorship_tag": "ABX9TyNnSfJBi/oIOUK4s7jPT+De",
      "include_colab_link": true
    },
    "kernelspec": {
      "name": "python3",
      "display_name": "Python 3"
    },
    "accelerator": "GPU"
  },
  "cells": [
    {
      "cell_type": "markdown",
      "metadata": {
        "id": "view-in-github",
        "colab_type": "text"
      },
      "source": [
        "<a href=\"https://colab.research.google.com/github/RiyaH2020/AIFR/blob/main/Vgg_face_final_AIFR_FG_NET.ipynb\" target=\"_parent\"><img src=\"https://colab.research.google.com/assets/colab-badge.svg\" alt=\"Open In Colab\"/></a>"
      ]
    },
    {
      "cell_type": "code",
      "metadata": {
        "id": "w9XjJoLRqWSX"
      },
      "source": [
        "import numpy as np\n",
        "import tensorflow as tf\n",
        "from tensorflow import keras\n",
        "from tensorflow.keras.models import Sequential,Model\n",
        "from tensorflow.keras.layers import ZeroPadding2D,Convolution2D,MaxPooling2D\n",
        "from tensorflow.keras.layers import Dense,Dropout,Softmax,Flatten,Activation,BatchNormalization\n",
        "from tensorflow.keras.preprocessing.image import load_img,img_to_array\n",
        "from tensorflow.keras.applications.imagenet_utils import preprocess_input\n",
        "import tensorflow.keras.backend as K\n",
        "\n",
        "# Define VGG_FACE_MODEL architecture\n",
        "model = Sequential()\n",
        "model.add(ZeroPadding2D((1,1),input_shape=(224,224, 3)))\n",
        "model.add(Convolution2D(64, (3, 3), activation='relu'))\n",
        "model.add(ZeroPadding2D((1,1)))\n",
        "model.add(Convolution2D(64, (3, 3), activation='relu'))\n",
        "model.add(MaxPooling2D((2,2), strides=(2,2)))\n",
        "model.add(ZeroPadding2D((1,1)))\n",
        "model.add(Convolution2D(128, (3, 3), activation='relu'))\n",
        "model.add(ZeroPadding2D((1,1)))\n",
        "model.add(Convolution2D(128, (3, 3), activation='relu'))\n",
        "model.add(MaxPooling2D((2,2), strides=(2,2)))\n",
        "model.add(ZeroPadding2D((1,1)))\n",
        "model.add(Convolution2D(256, (3, 3), activation='relu'))\n",
        "model.add(ZeroPadding2D((1,1)))\n",
        "model.add(Convolution2D(256, (3, 3), activation='relu'))\n",
        "model.add(ZeroPadding2D((1,1)))\n",
        "model.add(Convolution2D(256, (3, 3), activation='relu'))\n",
        "model.add(MaxPooling2D((2,2), strides=(2,2)))\n",
        "model.add(ZeroPadding2D((1,1)))\n",
        "model.add(Convolution2D(512, (3, 3), activation='relu'))\n",
        "model.add(ZeroPadding2D((1,1)))\n",
        "model.add(Convolution2D(512, (3, 3), activation='relu'))\n",
        "model.add(ZeroPadding2D((1,1)))\n",
        "model.add(Convolution2D(512, (3, 3), activation='relu'))\n",
        "model.add(MaxPooling2D((2,2), strides=(2,2)))\n",
        "model.add(ZeroPadding2D((1,1)))\n",
        "model.add(Convolution2D(512, (3, 3), activation='relu'))\n",
        "model.add(ZeroPadding2D((1,1)))\n",
        "model.add(Convolution2D(512, (3, 3), activation='relu'))\n",
        "model.add(ZeroPadding2D((1,1)))\n",
        "model.add(Convolution2D(512, (3, 3), activation='relu'))\n",
        "model.add(MaxPooling2D((2,2), strides=(2,2)))\n",
        "model.add(Convolution2D(4096, (7, 7), activation='relu'))\n",
        "model.add(Dropout(0.5))\n",
        "model.add(Convolution2D(4096, (1, 1), activation='relu'))\n",
        "model.add(Dropout(0.5))\n",
        "model.add(Convolution2D(2622, (1, 1)))\n",
        "model.add(Flatten())\n",
        "model.add(Activation('softmax'))\n",
        "\n",
        "# Load VGG Face model weights\n",
        "model.load_weights('drive/My Drive/vgg_face_weights.h5')"
      ],
      "execution_count": null,
      "outputs": []
    },
    {
      "cell_type": "markdown",
      "source": [
        "This code defines a convolutional neural network (CNN) based on the VGG-Face model, which is designed for face recognition. It consists of several convolutional, max-pooling, and dropout layers to extract facial features from input images. After processing through these layers, the model uses a softmax activation function to classify faces into 2622 possible identities. Pre-trained weights are loaded to enable the model to perform accurate face recognition without retraining. The architecture is built using TensorFlow/Keras and the weights are loaded from an external file.\n"
      ],
      "metadata": {
        "id": "Ecga6LEY7pIU"
      }
    },
    {
      "cell_type": "code",
      "metadata": {
        "id": "e9i37H7DqwGi"
      },
      "source": [
        "vgg_face=Model(inputs=model.layers[0].input,outputs=model.layers[-2].output)"
      ],
      "execution_count": null,
      "outputs": []
    },
    {
      "cell_type": "markdown",
      "source": [
        "This transformation creates a feature extraction model from the VGG-Face model. Instead of outputting face identity probabilities, it now outputs a 4096-dimensional feature vector (the output of the penultimate layer). These feature vectors can be used for tasks like facial similarity comparison or clustering instead of classification.\n"
      ],
      "metadata": {
        "id": "E5CT0ZsH78ct"
      }
    },
    {
      "cell_type": "code",
      "metadata": {
        "id": "iNhlYWPsQu1u",
        "colab": {
          "base_uri": "https://localhost:8080/",
          "height": 255
        },
        "outputId": "93bb657f-25f7-40e9-d8dc-37ca96177e5d"
      },
      "source": [
        "pip install mtcnn"
      ],
      "execution_count": null,
      "outputs": [
        {
          "output_type": "stream",
          "text": [
            "Collecting mtcnn\n",
            "\u001b[?25l  Downloading https://files.pythonhosted.org/packages/67/43/abee91792797c609c1bf30f1112117f7a87a713ebaa6ec5201d5555a73ef/mtcnn-0.1.0-py3-none-any.whl (2.3MB)\n",
            "\u001b[K     |████████████████████████████████| 2.3MB 9.6MB/s \n",
            "\u001b[?25hRequirement already satisfied: keras>=2.0.0 in /usr/local/lib/python3.6/dist-packages (from mtcnn) (2.4.3)\n",
            "Requirement already satisfied: opencv-python>=4.1.0 in /usr/local/lib/python3.6/dist-packages (from mtcnn) (4.1.2.30)\n",
            "Requirement already satisfied: scipy>=0.14 in /usr/local/lib/python3.6/dist-packages (from keras>=2.0.0->mtcnn) (1.4.1)\n",
            "Requirement already satisfied: pyyaml in /usr/local/lib/python3.6/dist-packages (from keras>=2.0.0->mtcnn) (3.13)\n",
            "Requirement already satisfied: h5py in /usr/local/lib/python3.6/dist-packages (from keras>=2.0.0->mtcnn) (2.10.0)\n",
            "Requirement already satisfied: numpy>=1.9.1 in /usr/local/lib/python3.6/dist-packages (from keras>=2.0.0->mtcnn) (1.18.5)\n",
            "Requirement already satisfied: six in /usr/local/lib/python3.6/dist-packages (from h5py->keras>=2.0.0->mtcnn) (1.15.0)\n",
            "Installing collected packages: mtcnn\n",
            "Successfully installed mtcnn-0.1.0\n"
          ],
          "name": "stdout"
        }
      ]
    },
    {
      "cell_type": "code",
      "metadata": {
        "id": "b5pVVtqUQxIE"
      },
      "source": [
        "from mtcnn.mtcnn import MTCNN\n",
        "from PIL import Image\n",
        "from numpy import asarray"
      ],
      "execution_count": null,
      "outputs": []
    },
    {
      "cell_type": "code",
      "metadata": {
        "id": "Ns99tUO6QzsC",
        "colab": {
          "base_uri": "https://localhost:8080/",
          "height": 1000
        },
        "outputId": "a741b402-ef2e-416d-f3fb-1fe33698d226"
      },
      "source": [
        "def extract_face(filename,required_size=(224,224)):\n",
        "  image=Image.open(filename)\n",
        "  img=asarray(image)\n",
        "  detector=MTCNN()\n",
        "  results=detector.detect_faces(img)\n",
        "  x1,y1,width,height=results[0]['box']\n",
        "  x1,y1=abs(x1),abs(y1)\n",
        "  x2,y2=x1+width,y1+height\n",
        "  face=img[y1:y2,x1:x2]\n",
        "  img=Image.fromarray(face)\n",
        "  img=img.resize(required_size)\n",
        "  face_array=asarray(img)\n",
        "  print(filename)\n",
        "  return face_array\n",
        "\n",
        "\n",
        "\n",
        "import os\n",
        "count=0\n",
        "x_train=[]\n",
        "y_train=[]\n",
        "person_folders=os.listdir('drive/My Drive/Dataset/Train_detect/')\n",
        "person_rep=dict()\n",
        "for i,person in enumerate(person_folders):\n",
        "  person_rep[i]=person\n",
        "  image_names=os.listdir('drive/My Drive/Dataset/Train_detect/'+person+'/')\n",
        "  for image_name in image_names:\n",
        "    img=extract_face('drive/My Drive/Dataset/Train_detect/'+person+'/'+image_name)\n",
        "    count+=1\n",
        "    print(count)\n",
        "    img=np.expand_dims(img,axis=0)\n",
        "    img=preprocess_input(img)\n",
        "    img_encode=vgg_face(img)\n",
        "    x_train.append(np.squeeze(K.eval(img_encode)).tolist())\n",
        "    y_train.append(i)"
      ],
      "execution_count": null,
      "outputs": [
        {
          "output_type": "stream",
          "text": [
            "WARNING:tensorflow:5 out of the last 9 calls to <function Model.make_predict_function.<locals>.predict_function at 0x7f2b7b787b70> triggered tf.function retracing. Tracing is expensive and the excessive number of tracings could be due to (1) creating @tf.function repeatedly in a loop, (2) passing tensors with different shapes, (3) passing Python objects instead of tensors. For (1), please define your @tf.function outside of the loop. For (2), @tf.function has experimental_relax_shapes=True option that relaxes argument shapes that can avoid unnecessary retracing. For (3), please refer to https://www.tensorflow.org/tutorials/customization/performance#python_or_tensor_args and https://www.tensorflow.org/api_docs/python/tf/function for  more details.\n",
            "drive/My Drive/Dataset/Train_detect/1/001A02.JPG\n",
            "1\n",
            "WARNING:tensorflow:6 out of the last 10 calls to <function Model.make_predict_function.<locals>.predict_function at 0x7f2ae07d7e18> triggered tf.function retracing. Tracing is expensive and the excessive number of tracings could be due to (1) creating @tf.function repeatedly in a loop, (2) passing tensors with different shapes, (3) passing Python objects instead of tensors. For (1), please define your @tf.function outside of the loop. For (2), @tf.function has experimental_relax_shapes=True option that relaxes argument shapes that can avoid unnecessary retracing. For (3), please refer to https://www.tensorflow.org/tutorials/customization/performance#python_or_tensor_args and https://www.tensorflow.org/api_docs/python/tf/function for  more details.\n",
            "WARNING:tensorflow:7 out of the last 11 calls to <function Model.make_predict_function.<locals>.predict_function at 0x7f2ae07d7e18> triggered tf.function retracing. Tracing is expensive and the excessive number of tracings could be due to (1) creating @tf.function repeatedly in a loop, (2) passing tensors with different shapes, (3) passing Python objects instead of tensors. For (1), please define your @tf.function outside of the loop. For (2), @tf.function has experimental_relax_shapes=True option that relaxes argument shapes that can avoid unnecessary retracing. For (3), please refer to https://www.tensorflow.org/tutorials/customization/performance#python_or_tensor_args and https://www.tensorflow.org/api_docs/python/tf/function for  more details.\n",
            "WARNING:tensorflow:7 out of the last 11 calls to <function Model.make_predict_function.<locals>.predict_function at 0x7f2ae07d7e18> triggered tf.function retracing. Tracing is expensive and the excessive number of tracings could be due to (1) creating @tf.function repeatedly in a loop, (2) passing tensors with different shapes, (3) passing Python objects instead of tensors. For (1), please define your @tf.function outside of the loop. For (2), @tf.function has experimental_relax_shapes=True option that relaxes argument shapes that can avoid unnecessary retracing. For (3), please refer to https://www.tensorflow.org/tutorials/customization/performance#python_or_tensor_args and https://www.tensorflow.org/api_docs/python/tf/function for  more details.\n",
            "WARNING:tensorflow:6 out of the last 11 calls to <function Model.make_predict_function.<locals>.predict_function at 0x7f2b7a586f28> triggered tf.function retracing. Tracing is expensive and the excessive number of tracings could be due to (1) creating @tf.function repeatedly in a loop, (2) passing tensors with different shapes, (3) passing Python objects instead of tensors. For (1), please define your @tf.function outside of the loop. For (2), @tf.function has experimental_relax_shapes=True option that relaxes argument shapes that can avoid unnecessary retracing. For (3), please refer to https://www.tensorflow.org/tutorials/customization/performance#python_or_tensor_args and https://www.tensorflow.org/api_docs/python/tf/function for  more details.\n",
            "WARNING:tensorflow:6 out of the last 11 calls to <function Model.make_predict_function.<locals>.predict_function at 0x7f2b7a586c80> triggered tf.function retracing. Tracing is expensive and the excessive number of tracings could be due to (1) creating @tf.function repeatedly in a loop, (2) passing tensors with different shapes, (3) passing Python objects instead of tensors. For (1), please define your @tf.function outside of the loop. For (2), @tf.function has experimental_relax_shapes=True option that relaxes argument shapes that can avoid unnecessary retracing. For (3), please refer to https://www.tensorflow.org/tutorials/customization/performance#python_or_tensor_args and https://www.tensorflow.org/api_docs/python/tf/function for  more details.\n",
            "drive/My Drive/Dataset/Train_detect/1/001A05.JPG\n",
            "2\n",
            "WARNING:tensorflow:6 out of the last 11 calls to <function Model.make_predict_function.<locals>.predict_function at 0x7f2b7a66a048> triggered tf.function retracing. Tracing is expensive and the excessive number of tracings could be due to (1) creating @tf.function repeatedly in a loop, (2) passing tensors with different shapes, (3) passing Python objects instead of tensors. For (1), please define your @tf.function outside of the loop. For (2), @tf.function has experimental_relax_shapes=True option that relaxes argument shapes that can avoid unnecessary retracing. For (3), please refer to https://www.tensorflow.org/tutorials/customization/performance#python_or_tensor_args and https://www.tensorflow.org/api_docs/python/tf/function for  more details.\n",
            "WARNING:tensorflow:6 out of the last 11 calls to <function Model.make_predict_function.<locals>.predict_function at 0x7f2b7a66a048> triggered tf.function retracing. Tracing is expensive and the excessive number of tracings could be due to (1) creating @tf.function repeatedly in a loop, (2) passing tensors with different shapes, (3) passing Python objects instead of tensors. For (1), please define your @tf.function outside of the loop. For (2), @tf.function has experimental_relax_shapes=True option that relaxes argument shapes that can avoid unnecessary retracing. For (3), please refer to https://www.tensorflow.org/tutorials/customization/performance#python_or_tensor_args and https://www.tensorflow.org/api_docs/python/tf/function for  more details.\n",
            "WARNING:tensorflow:6 out of the last 11 calls to <function Model.make_predict_function.<locals>.predict_function at 0x7f2b7a66a048> triggered tf.function retracing. Tracing is expensive and the excessive number of tracings could be due to (1) creating @tf.function repeatedly in a loop, (2) passing tensors with different shapes, (3) passing Python objects instead of tensors. For (1), please define your @tf.function outside of the loop. For (2), @tf.function has experimental_relax_shapes=True option that relaxes argument shapes that can avoid unnecessary retracing. For (3), please refer to https://www.tensorflow.org/tutorials/customization/performance#python_or_tensor_args and https://www.tensorflow.org/api_docs/python/tf/function for  more details.\n",
            "WARNING:tensorflow:6 out of the last 11 calls to <function Model.make_predict_function.<locals>.predict_function at 0x7f2b7a440bf8> triggered tf.function retracing. Tracing is expensive and the excessive number of tracings could be due to (1) creating @tf.function repeatedly in a loop, (2) passing tensors with different shapes, (3) passing Python objects instead of tensors. For (1), please define your @tf.function outside of the loop. For (2), @tf.function has experimental_relax_shapes=True option that relaxes argument shapes that can avoid unnecessary retracing. For (3), please refer to https://www.tensorflow.org/tutorials/customization/performance#python_or_tensor_args and https://www.tensorflow.org/api_docs/python/tf/function for  more details.\n",
            "WARNING:tensorflow:6 out of the last 11 calls to <function Model.make_predict_function.<locals>.predict_function at 0x7f2b7a38fb70> triggered tf.function retracing. Tracing is expensive and the excessive number of tracings could be due to (1) creating @tf.function repeatedly in a loop, (2) passing tensors with different shapes, (3) passing Python objects instead of tensors. For (1), please define your @tf.function outside of the loop. For (2), @tf.function has experimental_relax_shapes=True option that relaxes argument shapes that can avoid unnecessary retracing. For (3), please refer to https://www.tensorflow.org/tutorials/customization/performance#python_or_tensor_args and https://www.tensorflow.org/api_docs/python/tf/function for  more details.\n",
            "drive/My Drive/Dataset/Train_detect/1/001A08.JPG\n",
            "3\n",
            "WARNING:tensorflow:6 out of the last 11 calls to <function Model.make_predict_function.<locals>.predict_function at 0x7f2b7a404378> triggered tf.function retracing. Tracing is expensive and the excessive number of tracings could be due to (1) creating @tf.function repeatedly in a loop, (2) passing tensors with different shapes, (3) passing Python objects instead of tensors. For (1), please define your @tf.function outside of the loop. For (2), @tf.function has experimental_relax_shapes=True option that relaxes argument shapes that can avoid unnecessary retracing. For (3), please refer to https://www.tensorflow.org/tutorials/customization/performance#python_or_tensor_args and https://www.tensorflow.org/api_docs/python/tf/function for  more details.\n",
            "WARNING:tensorflow:6 out of the last 11 calls to <function Model.make_predict_function.<locals>.predict_function at 0x7f2b7a404378> triggered tf.function retracing. Tracing is expensive and the excessive number of tracings could be due to (1) creating @tf.function repeatedly in a loop, (2) passing tensors with different shapes, (3) passing Python objects instead of tensors. For (1), please define your @tf.function outside of the loop. For (2), @tf.function has experimental_relax_shapes=True option that relaxes argument shapes that can avoid unnecessary retracing. For (3), please refer to https://www.tensorflow.org/tutorials/customization/performance#python_or_tensor_args and https://www.tensorflow.org/api_docs/python/tf/function for  more details.\n",
            "WARNING:tensorflow:6 out of the last 11 calls to <function Model.make_predict_function.<locals>.predict_function at 0x7f2b7a404378> triggered tf.function retracing. Tracing is expensive and the excessive number of tracings could be due to (1) creating @tf.function repeatedly in a loop, (2) passing tensors with different shapes, (3) passing Python objects instead of tensors. For (1), please define your @tf.function outside of the loop. For (2), @tf.function has experimental_relax_shapes=True option that relaxes argument shapes that can avoid unnecessary retracing. For (3), please refer to https://www.tensorflow.org/tutorials/customization/performance#python_or_tensor_args and https://www.tensorflow.org/api_docs/python/tf/function for  more details.\n",
            "WARNING:tensorflow:7 out of the last 16 calls to <function Model.make_predict_function.<locals>.predict_function at 0x7f2b7a1e81e0> triggered tf.function retracing. Tracing is expensive and the excessive number of tracings could be due to (1) creating @tf.function repeatedly in a loop, (2) passing tensors with different shapes, (3) passing Python objects instead of tensors. For (1), please define your @tf.function outside of the loop. For (2), @tf.function has experimental_relax_shapes=True option that relaxes argument shapes that can avoid unnecessary retracing. For (3), please refer to https://www.tensorflow.org/tutorials/customization/performance#python_or_tensor_args and https://www.tensorflow.org/api_docs/python/tf/function for  more details.\n",
            "WARNING:tensorflow:7 out of the last 11 calls to <function Model.make_predict_function.<locals>.predict_function at 0x7f2b7a1a6a60> triggered tf.function retracing. Tracing is expensive and the excessive number of tracings could be due to (1) creating @tf.function repeatedly in a loop, (2) passing tensors with different shapes, (3) passing Python objects instead of tensors. For (1), please define your @tf.function outside of the loop. For (2), @tf.function has experimental_relax_shapes=True option that relaxes argument shapes that can avoid unnecessary retracing. For (3), please refer to https://www.tensorflow.org/tutorials/customization/performance#python_or_tensor_args and https://www.tensorflow.org/api_docs/python/tf/function for  more details.\n",
            "drive/My Drive/Dataset/Train_detect/1/001A14.JPG\n",
            "4\n",
            "WARNING:tensorflow:7 out of the last 11 calls to <function Model.make_predict_function.<locals>.predict_function at 0x7f2b7a23eae8> triggered tf.function retracing. Tracing is expensive and the excessive number of tracings could be due to (1) creating @tf.function repeatedly in a loop, (2) passing tensors with different shapes, (3) passing Python objects instead of tensors. For (1), please define your @tf.function outside of the loop. For (2), @tf.function has experimental_relax_shapes=True option that relaxes argument shapes that can avoid unnecessary retracing. For (3), please refer to https://www.tensorflow.org/tutorials/customization/performance#python_or_tensor_args and https://www.tensorflow.org/api_docs/python/tf/function for  more details.\n",
            "WARNING:tensorflow:7 out of the last 11 calls to <function Model.make_predict_function.<locals>.predict_function at 0x7f2b7a23eae8> triggered tf.function retracing. Tracing is expensive and the excessive number of tracings could be due to (1) creating @tf.function repeatedly in a loop, (2) passing tensors with different shapes, (3) passing Python objects instead of tensors. For (1), please define your @tf.function outside of the loop. For (2), @tf.function has experimental_relax_shapes=True option that relaxes argument shapes that can avoid unnecessary retracing. For (3), please refer to https://www.tensorflow.org/tutorials/customization/performance#python_or_tensor_args and https://www.tensorflow.org/api_docs/python/tf/function for  more details.\n",
            "WARNING:tensorflow:7 out of the last 11 calls to <function Model.make_predict_function.<locals>.predict_function at 0x7f2b7a23eae8> triggered tf.function retracing. Tracing is expensive and the excessive number of tracings could be due to (1) creating @tf.function repeatedly in a loop, (2) passing tensors with different shapes, (3) passing Python objects instead of tensors. For (1), please define your @tf.function outside of the loop. For (2), @tf.function has experimental_relax_shapes=True option that relaxes argument shapes that can avoid unnecessary retracing. For (3), please refer to https://www.tensorflow.org/tutorials/customization/performance#python_or_tensor_args and https://www.tensorflow.org/api_docs/python/tf/function for  more details.\n",
            "WARNING:tensorflow:5 out of the last 11 calls to <function Model.make_predict_function.<locals>.predict_function at 0x7f2b7a1499d8> triggered tf.function retracing. Tracing is expensive and the excessive number of tracings could be due to (1) creating @tf.function repeatedly in a loop, (2) passing tensors with different shapes, (3) passing Python objects instead of tensors. For (1), please define your @tf.function outside of the loop. For (2), @tf.function has experimental_relax_shapes=True option that relaxes argument shapes that can avoid unnecessary retracing. For (3), please refer to https://www.tensorflow.org/tutorials/customization/performance#python_or_tensor_args and https://www.tensorflow.org/api_docs/python/tf/function for  more details.\n",
            "WARNING:tensorflow:5 out of the last 11 calls to <function Model.make_predict_function.<locals>.predict_function at 0x7f2ade72a8c8> triggered tf.function retracing. Tracing is expensive and the excessive number of tracings could be due to (1) creating @tf.function repeatedly in a loop, (2) passing tensors with different shapes, (3) passing Python objects instead of tensors. For (1), please define your @tf.function outside of the loop. For (2), @tf.function has experimental_relax_shapes=True option that relaxes argument shapes that can avoid unnecessary retracing. For (3), please refer to https://www.tensorflow.org/tutorials/customization/performance#python_or_tensor_args and https://www.tensorflow.org/api_docs/python/tf/function for  more details.\n",
            "drive/My Drive/Dataset/Train_detect/1/001A16.JPG\n",
            "5\n",
            "WARNING:tensorflow:5 out of the last 11 calls to <function Model.make_predict_function.<locals>.predict_function at 0x7f2b7a149b70> triggered tf.function retracing. Tracing is expensive and the excessive number of tracings could be due to (1) creating @tf.function repeatedly in a loop, (2) passing tensors with different shapes, (3) passing Python objects instead of tensors. For (1), please define your @tf.function outside of the loop. For (2), @tf.function has experimental_relax_shapes=True option that relaxes argument shapes that can avoid unnecessary retracing. For (3), please refer to https://www.tensorflow.org/tutorials/customization/performance#python_or_tensor_args and https://www.tensorflow.org/api_docs/python/tf/function for  more details.\n",
            "WARNING:tensorflow:5 out of the last 11 calls to <function Model.make_predict_function.<locals>.predict_function at 0x7f2b7a149b70> triggered tf.function retracing. Tracing is expensive and the excessive number of tracings could be due to (1) creating @tf.function repeatedly in a loop, (2) passing tensors with different shapes, (3) passing Python objects instead of tensors. For (1), please define your @tf.function outside of the loop. For (2), @tf.function has experimental_relax_shapes=True option that relaxes argument shapes that can avoid unnecessary retracing. For (3), please refer to https://www.tensorflow.org/tutorials/customization/performance#python_or_tensor_args and https://www.tensorflow.org/api_docs/python/tf/function for  more details.\n",
            "WARNING:tensorflow:6 out of the last 12 calls to <function Model.make_predict_function.<locals>.predict_function at 0x7f2b7a149b70> triggered tf.function retracing. Tracing is expensive and the excessive number of tracings could be due to (1) creating @tf.function repeatedly in a loop, (2) passing tensors with different shapes, (3) passing Python objects instead of tensors. For (1), please define your @tf.function outside of the loop. For (2), @tf.function has experimental_relax_shapes=True option that relaxes argument shapes that can avoid unnecessary retracing. For (3), please refer to https://www.tensorflow.org/tutorials/customization/performance#python_or_tensor_args and https://www.tensorflow.org/api_docs/python/tf/function for  more details.\n",
            "WARNING:tensorflow:6 out of the last 11 calls to <function Model.make_predict_function.<locals>.predict_function at 0x7f2b7a1a6488> triggered tf.function retracing. Tracing is expensive and the excessive number of tracings could be due to (1) creating @tf.function repeatedly in a loop, (2) passing tensors with different shapes, (3) passing Python objects instead of tensors. For (1), please define your @tf.function outside of the loop. For (2), @tf.function has experimental_relax_shapes=True option that relaxes argument shapes that can avoid unnecessary retracing. For (3), please refer to https://www.tensorflow.org/tutorials/customization/performance#python_or_tensor_args and https://www.tensorflow.org/api_docs/python/tf/function for  more details.\n",
            "WARNING:tensorflow:6 out of the last 11 calls to <function Model.make_predict_function.<locals>.predict_function at 0x7f2b7a3e0e18> triggered tf.function retracing. Tracing is expensive and the excessive number of tracings could be due to (1) creating @tf.function repeatedly in a loop, (2) passing tensors with different shapes, (3) passing Python objects instead of tensors. For (1), please define your @tf.function outside of the loop. For (2), @tf.function has experimental_relax_shapes=True option that relaxes argument shapes that can avoid unnecessary retracing. For (3), please refer to https://www.tensorflow.org/tutorials/customization/performance#python_or_tensor_args and https://www.tensorflow.org/api_docs/python/tf/function for  more details.\n"
          ],
          "name": "stdout"
        },
        {
          "output_type": "error",
          "ename": "IndexError",
          "evalue": "ignored",
          "traceback": [
            "\u001b[0;31m---------------------------------------------------------------------------\u001b[0m",
            "\u001b[0;31mIndexError\u001b[0m                                Traceback (most recent call last)",
            "\u001b[0;32m<ipython-input-6-0ebca6cd921f>\u001b[0m in \u001b[0;36m<module>\u001b[0;34m()\u001b[0m\n\u001b[1;32m     26\u001b[0m   \u001b[0mimage_names\u001b[0m\u001b[0;34m=\u001b[0m\u001b[0mos\u001b[0m\u001b[0;34m.\u001b[0m\u001b[0mlistdir\u001b[0m\u001b[0;34m(\u001b[0m\u001b[0;34m'drive/My Drive/Dataset/Train_detect/'\u001b[0m\u001b[0;34m+\u001b[0m\u001b[0mperson\u001b[0m\u001b[0;34m+\u001b[0m\u001b[0;34m'/'\u001b[0m\u001b[0;34m)\u001b[0m\u001b[0;34m\u001b[0m\u001b[0;34m\u001b[0m\u001b[0m\n\u001b[1;32m     27\u001b[0m   \u001b[0;32mfor\u001b[0m \u001b[0mimage_name\u001b[0m \u001b[0;32min\u001b[0m \u001b[0mimage_names\u001b[0m\u001b[0;34m:\u001b[0m\u001b[0;34m\u001b[0m\u001b[0;34m\u001b[0m\u001b[0m\n\u001b[0;32m---> 28\u001b[0;31m     \u001b[0mimg\u001b[0m\u001b[0;34m=\u001b[0m\u001b[0mextract_face\u001b[0m\u001b[0;34m(\u001b[0m\u001b[0;34m'drive/My Drive/Dataset/Train_detect/'\u001b[0m\u001b[0;34m+\u001b[0m\u001b[0mperson\u001b[0m\u001b[0;34m+\u001b[0m\u001b[0;34m'/'\u001b[0m\u001b[0;34m+\u001b[0m\u001b[0mimage_name\u001b[0m\u001b[0;34m)\u001b[0m\u001b[0;34m\u001b[0m\u001b[0;34m\u001b[0m\u001b[0m\n\u001b[0m\u001b[1;32m     29\u001b[0m     \u001b[0mcount\u001b[0m\u001b[0;34m+=\u001b[0m\u001b[0;36m1\u001b[0m\u001b[0;34m\u001b[0m\u001b[0;34m\u001b[0m\u001b[0m\n\u001b[1;32m     30\u001b[0m     \u001b[0mprint\u001b[0m\u001b[0;34m(\u001b[0m\u001b[0mcount\u001b[0m\u001b[0;34m)\u001b[0m\u001b[0;34m\u001b[0m\u001b[0;34m\u001b[0m\u001b[0m\n",
            "\u001b[0;32m<ipython-input-6-0ebca6cd921f>\u001b[0m in \u001b[0;36mextract_face\u001b[0;34m(filename, required_size)\u001b[0m\n\u001b[1;32m      4\u001b[0m   \u001b[0mdetector\u001b[0m\u001b[0;34m=\u001b[0m\u001b[0mMTCNN\u001b[0m\u001b[0;34m(\u001b[0m\u001b[0;34m)\u001b[0m\u001b[0;34m\u001b[0m\u001b[0;34m\u001b[0m\u001b[0m\n\u001b[1;32m      5\u001b[0m   \u001b[0mresults\u001b[0m\u001b[0;34m=\u001b[0m\u001b[0mdetector\u001b[0m\u001b[0;34m.\u001b[0m\u001b[0mdetect_faces\u001b[0m\u001b[0;34m(\u001b[0m\u001b[0mimg\u001b[0m\u001b[0;34m)\u001b[0m\u001b[0;34m\u001b[0m\u001b[0;34m\u001b[0m\u001b[0m\n\u001b[0;32m----> 6\u001b[0;31m   \u001b[0mx1\u001b[0m\u001b[0;34m,\u001b[0m\u001b[0my1\u001b[0m\u001b[0;34m,\u001b[0m\u001b[0mwidth\u001b[0m\u001b[0;34m,\u001b[0m\u001b[0mheight\u001b[0m\u001b[0;34m=\u001b[0m\u001b[0mresults\u001b[0m\u001b[0;34m[\u001b[0m\u001b[0;36m0\u001b[0m\u001b[0;34m]\u001b[0m\u001b[0;34m[\u001b[0m\u001b[0;34m'box'\u001b[0m\u001b[0;34m]\u001b[0m\u001b[0;34m\u001b[0m\u001b[0;34m\u001b[0m\u001b[0m\n\u001b[0m\u001b[1;32m      7\u001b[0m   \u001b[0mx1\u001b[0m\u001b[0;34m,\u001b[0m\u001b[0my1\u001b[0m\u001b[0;34m=\u001b[0m\u001b[0mabs\u001b[0m\u001b[0;34m(\u001b[0m\u001b[0mx1\u001b[0m\u001b[0;34m)\u001b[0m\u001b[0;34m,\u001b[0m\u001b[0mabs\u001b[0m\u001b[0;34m(\u001b[0m\u001b[0my1\u001b[0m\u001b[0;34m)\u001b[0m\u001b[0;34m\u001b[0m\u001b[0;34m\u001b[0m\u001b[0m\n\u001b[1;32m      8\u001b[0m   \u001b[0mx2\u001b[0m\u001b[0;34m,\u001b[0m\u001b[0my2\u001b[0m\u001b[0;34m=\u001b[0m\u001b[0mx1\u001b[0m\u001b[0;34m+\u001b[0m\u001b[0mwidth\u001b[0m\u001b[0;34m,\u001b[0m\u001b[0my1\u001b[0m\u001b[0;34m+\u001b[0m\u001b[0mheight\u001b[0m\u001b[0;34m\u001b[0m\u001b[0;34m\u001b[0m\u001b[0m\n",
            "\u001b[0;31mIndexError\u001b[0m: list index out of range"
          ]
        }
      ]
    },
    {
      "cell_type": "code",
      "metadata": {
        "id": "Vl51XbZVQ3ly"
      },
      "source": [
        "def extract_face(filename,required_size=(224,224)):\n",
        "  image=Image.open(filename)\n",
        "  img=asarray(image)\n",
        "  detector=MTCNN()\n",
        "  results=detector.detect_faces(img)\n",
        "  x1,y1,width,height=results[0]['box']\n",
        "  x1,y1=abs(x1),abs(y1)\n",
        "  x2,y2=x1+width,y1+height\n",
        "  face=img[y1:y2,x1:x2]\n",
        "  img=Image.fromarray(face)\n",
        "  img=img.resize(required_size)\n",
        "  face_array=asarray(img)\n",
        "  print(filename)\n",
        "  return face_array\n",
        "\n",
        "\n",
        "\n",
        "import os\n",
        "count=0\n",
        "x_test=[]\n",
        "y_test=[]\n",
        "person_folders=os.listdir('drive/My Drive/Dataset/Train_detect/')\n",
        "for i,person in enumerate(person_folders):\n",
        "  if os.path.exists('drive/My Drive/Dataset/Test_detect/'+person+'/'):\n",
        "    image_names=os.listdir('drive/My Drive/Dataset/Test_detect/'+person+'/')\n",
        "    for image_name in image_names:\n",
        "      img=extract_face('drive/My Drive/Dataset/Test_detect/'+person+'/'+image_name)\n",
        "      count+=1\n",
        "      print(count)\n",
        "      img=np.expand_dims(img,axis=0)\n",
        "      img=preprocess_input(img)\n",
        "      img_encode=vgg_face(img)\n",
        "      x_test.append(np.squeeze(K.eval(img_encode)).tolist())\n",
        "      y_test.append(i)"
      ],
      "execution_count": null,
      "outputs": []
    },
    {
      "cell_type": "code",
      "metadata": {
        "id": "uCMCypKMGwvF",
        "colab": {
          "base_uri": "https://localhost:8080/",
          "height": 776
        },
        "outputId": "916fa5f2-b5a8-4a1f-d096-e730258140b0"
      },
      "source": [
        "import os\n",
        "x_train=[]\n",
        "y_train=[]\n",
        "person_folders=os.listdir('drive/My Drive/Dataset/Train_detect/')\n",
        "person_rep=dict()\n",
        "for i,person in enumerate(person_folders):\n",
        "  person_rep[i]=person\n",
        "  image_names=os.listdir('drive/My Drive/Dataset/Train_detect/'+person+'/')\n",
        "  for image_name in image_names:\n",
        "    print(image_name)\n",
        "    img=load_img('drive/My Drive/Dataset/Train_detect/'+person+'/'+image_name,target_size=(224,224))\n",
        "    img=img_to_array(img)\n",
        "    img=np.expand_dims(img,axis=0)\n",
        "    img=preprocess_input(img)\n",
        "    img_encode=vgg_face(img)\n",
        "    x_train.append(np.squeeze(K.eval(img_encode)).tolist())\n",
        "    y_train.append(i)\n",
        "\n"
      ],
      "execution_count": null,
      "outputs": [
        {
          "output_type": "stream",
          "text": [
            "001A02.JPG\n",
            "001A05.JPG\n",
            "001A08.JPG\n",
            "001A14.JPG\n",
            "001A16.JPG\n",
            "001A19.JPG\n",
            "001A22.JPG\n",
            "001A28.JPG\n",
            "001A29.JPG\n",
            "001A33.JPG\n",
            "001A43b.JPG\n",
            "002A03.JPG\n",
            "002A04.JPG\n",
            "002A05.JPG\n",
            "002A07.JPG\n",
            "002A15.JPG\n",
            "002A16.JPG\n",
            "002A20.JPG\n",
            "002A23.JPG\n"
          ],
          "name": "stdout"
        },
        {
          "output_type": "error",
          "ename": "KeyboardInterrupt",
          "evalue": "ignored",
          "traceback": [
            "\u001b[0;31m---------------------------------------------------------------------------\u001b[0m",
            "\u001b[0;31mKeyboardInterrupt\u001b[0m                         Traceback (most recent call last)",
            "\u001b[0;32m<ipython-input-7-4f8a22cad460>\u001b[0m in \u001b[0;36m<module>\u001b[0;34m()\u001b[0m\n\u001b[1;32m      9\u001b[0m   \u001b[0;32mfor\u001b[0m \u001b[0mimage_name\u001b[0m \u001b[0;32min\u001b[0m \u001b[0mimage_names\u001b[0m\u001b[0;34m:\u001b[0m\u001b[0;34m\u001b[0m\u001b[0;34m\u001b[0m\u001b[0m\n\u001b[1;32m     10\u001b[0m     \u001b[0mprint\u001b[0m\u001b[0;34m(\u001b[0m\u001b[0mimage_name\u001b[0m\u001b[0;34m)\u001b[0m\u001b[0;34m\u001b[0m\u001b[0;34m\u001b[0m\u001b[0m\n\u001b[0;32m---> 11\u001b[0;31m     \u001b[0mimg\u001b[0m\u001b[0;34m=\u001b[0m\u001b[0mload_img\u001b[0m\u001b[0;34m(\u001b[0m\u001b[0;34m'drive/My Drive/Dataset/Train_detect/'\u001b[0m\u001b[0;34m+\u001b[0m\u001b[0mperson\u001b[0m\u001b[0;34m+\u001b[0m\u001b[0;34m'/'\u001b[0m\u001b[0;34m+\u001b[0m\u001b[0mimage_name\u001b[0m\u001b[0;34m,\u001b[0m\u001b[0mtarget_size\u001b[0m\u001b[0;34m=\u001b[0m\u001b[0;34m(\u001b[0m\u001b[0;36m224\u001b[0m\u001b[0;34m,\u001b[0m\u001b[0;36m224\u001b[0m\u001b[0;34m)\u001b[0m\u001b[0;34m)\u001b[0m\u001b[0;34m\u001b[0m\u001b[0;34m\u001b[0m\u001b[0m\n\u001b[0m\u001b[1;32m     12\u001b[0m     \u001b[0mimg\u001b[0m\u001b[0;34m=\u001b[0m\u001b[0mimg_to_array\u001b[0m\u001b[0;34m(\u001b[0m\u001b[0mimg\u001b[0m\u001b[0;34m)\u001b[0m\u001b[0;34m\u001b[0m\u001b[0;34m\u001b[0m\u001b[0m\n\u001b[1;32m     13\u001b[0m     \u001b[0mimg\u001b[0m\u001b[0;34m=\u001b[0m\u001b[0mnp\u001b[0m\u001b[0;34m.\u001b[0m\u001b[0mexpand_dims\u001b[0m\u001b[0;34m(\u001b[0m\u001b[0mimg\u001b[0m\u001b[0;34m,\u001b[0m\u001b[0maxis\u001b[0m\u001b[0;34m=\u001b[0m\u001b[0;36m0\u001b[0m\u001b[0;34m)\u001b[0m\u001b[0;34m\u001b[0m\u001b[0;34m\u001b[0m\u001b[0m\n",
            "\u001b[0;32m/usr/local/lib/python3.6/dist-packages/tensorflow/python/keras/preprocessing/image.py\u001b[0m in \u001b[0;36mload_img\u001b[0;34m(path, grayscale, color_mode, target_size, interpolation)\u001b[0m\n\u001b[1;32m    299\u001b[0m   \"\"\"\n\u001b[1;32m    300\u001b[0m   return image.load_img(path, grayscale=grayscale, color_mode=color_mode,\n\u001b[0;32m--> 301\u001b[0;31m                         target_size=target_size, interpolation=interpolation)\n\u001b[0m\u001b[1;32m    302\u001b[0m \u001b[0;34m\u001b[0m\u001b[0m\n\u001b[1;32m    303\u001b[0m \u001b[0;34m\u001b[0m\u001b[0m\n",
            "\u001b[0;32m/usr/local/lib/python3.6/dist-packages/keras_preprocessing/image/utils.py\u001b[0m in \u001b[0;36mload_img\u001b[0;34m(path, grayscale, color_mode, target_size, interpolation)\u001b[0m\n\u001b[1;32m    112\u001b[0m                           'The use of `load_img` requires PIL.')\n\u001b[1;32m    113\u001b[0m     \u001b[0;32mwith\u001b[0m \u001b[0mopen\u001b[0m\u001b[0;34m(\u001b[0m\u001b[0mpath\u001b[0m\u001b[0;34m,\u001b[0m \u001b[0;34m'rb'\u001b[0m\u001b[0;34m)\u001b[0m \u001b[0;32mas\u001b[0m \u001b[0mf\u001b[0m\u001b[0;34m:\u001b[0m\u001b[0;34m\u001b[0m\u001b[0;34m\u001b[0m\u001b[0m\n\u001b[0;32m--> 114\u001b[0;31m         \u001b[0mimg\u001b[0m \u001b[0;34m=\u001b[0m \u001b[0mpil_image\u001b[0m\u001b[0;34m.\u001b[0m\u001b[0mopen\u001b[0m\u001b[0;34m(\u001b[0m\u001b[0mio\u001b[0m\u001b[0;34m.\u001b[0m\u001b[0mBytesIO\u001b[0m\u001b[0;34m(\u001b[0m\u001b[0mf\u001b[0m\u001b[0;34m.\u001b[0m\u001b[0mread\u001b[0m\u001b[0;34m(\u001b[0m\u001b[0;34m)\u001b[0m\u001b[0;34m)\u001b[0m\u001b[0;34m)\u001b[0m\u001b[0;34m\u001b[0m\u001b[0;34m\u001b[0m\u001b[0m\n\u001b[0m\u001b[1;32m    115\u001b[0m         \u001b[0;32mif\u001b[0m \u001b[0mcolor_mode\u001b[0m \u001b[0;34m==\u001b[0m \u001b[0;34m'grayscale'\u001b[0m\u001b[0;34m:\u001b[0m\u001b[0;34m\u001b[0m\u001b[0;34m\u001b[0m\u001b[0m\n\u001b[1;32m    116\u001b[0m             \u001b[0;31m# if image is not already an 8-bit, 16-bit or 32-bit grayscale image\u001b[0m\u001b[0;34m\u001b[0m\u001b[0;34m\u001b[0m\u001b[0;34m\u001b[0m\u001b[0m\n",
            "\u001b[0;31mKeyboardInterrupt\u001b[0m: "
          ]
        }
      ]
    },
    {
      "cell_type": "code",
      "metadata": {
        "id": "HULreT0KBb5n",
        "colab": {
          "base_uri": "https://localhost:8080/",
          "height": 72
        },
        "outputId": "a76cad17-94fe-40f3-f2fb-82237a27ed66"
      },
      "source": [
        "print(img_encode)"
      ],
      "execution_count": null,
      "outputs": [
        {
          "output_type": "stream",
          "text": [
            "tf.Tensor(\n",
            "[[ 3.7940671   0.32182863  0.18288684 ... -3.5844185  -0.5676227\n",
            "   1.2006351 ]], shape=(1, 2622), dtype=float32)\n"
          ],
          "name": "stdout"
        }
      ]
    },
    {
      "cell_type": "code",
      "metadata": {
        "id": "iAPCnrkRr-Rr",
        "colab": {
          "base_uri": "https://localhost:8080/",
          "height": 1000
        },
        "outputId": "997744f6-38c7-44b7-c891-27437e8138f1"
      },
      "source": [
        "person_rep"
      ],
      "execution_count": null,
      "outputs": [
        {
          "output_type": "execute_result",
          "data": {
            "text/plain": [
              "{0: '1',\n",
              " 1: '2',\n",
              " 2: '3',\n",
              " 3: '4',\n",
              " 4: '5',\n",
              " 5: '6',\n",
              " 6: '8',\n",
              " 7: '9',\n",
              " 8: '10',\n",
              " 9: '11',\n",
              " 10: '12',\n",
              " 11: '13',\n",
              " 12: '14',\n",
              " 13: '15',\n",
              " 14: '16',\n",
              " 15: '17',\n",
              " 16: '18',\n",
              " 17: '19',\n",
              " 18: '20',\n",
              " 19: '21',\n",
              " 20: '22',\n",
              " 21: '23',\n",
              " 22: '24',\n",
              " 23: '25',\n",
              " 24: '26',\n",
              " 25: '27',\n",
              " 26: '28',\n",
              " 27: '29',\n",
              " 28: '30',\n",
              " 29: '31',\n",
              " 30: '32',\n",
              " 31: '33',\n",
              " 32: '34',\n",
              " 33: '35',\n",
              " 34: '36',\n",
              " 35: '37',\n",
              " 36: '38',\n",
              " 37: '39',\n",
              " 38: '40',\n",
              " 39: '41',\n",
              " 40: '42',\n",
              " 41: '43',\n",
              " 42: '44',\n",
              " 43: '45',\n",
              " 44: '46',\n",
              " 45: '47',\n",
              " 46: '48',\n",
              " 47: '49',\n",
              " 48: '50',\n",
              " 49: '51',\n",
              " 50: '52',\n",
              " 51: '53',\n",
              " 52: '54',\n",
              " 53: '55',\n",
              " 54: '56',\n",
              " 55: '57',\n",
              " 56: '58',\n",
              " 57: '59',\n",
              " 58: '60',\n",
              " 59: '61',\n",
              " 60: '62',\n",
              " 61: '63',\n",
              " 62: '64',\n",
              " 63: '65',\n",
              " 64: '66',\n",
              " 65: '67',\n",
              " 66: '68',\n",
              " 67: '69',\n",
              " 68: '70',\n",
              " 69: '71',\n",
              " 70: '72',\n",
              " 71: '73',\n",
              " 72: '7',\n",
              " 73: '74',\n",
              " 74: '75',\n",
              " 75: '76',\n",
              " 76: '77',\n",
              " 77: '78',\n",
              " 78: '79',\n",
              " 79: '80',\n",
              " 80: '81',\n",
              " 81: '82'}"
            ]
          },
          "metadata": {
            "tags": []
          },
          "execution_count": 4
        }
      ]
    },
    {
      "cell_type": "code",
      "metadata": {
        "id": "zMrS31qdG12m"
      },
      "source": [
        "x_train=np.array(x_train)\n",
        "y_train=np.array(y_train)\n"
      ],
      "execution_count": null,
      "outputs": []
    },
    {
      "cell_type": "code",
      "metadata": {
        "id": "u1-P81amacSa"
      },
      "source": [
        "x_test=[]\n",
        "y_test=[]\n",
        "person_folders=os.listdir('drive/My Drive/Dataset/Train_detect/')\n",
        "for i,person in enumerate(person_folders):\n",
        "  image_names=os.listdir('drive/My Drive/Dataset/Test_detect/'+person+'/')\n",
        "  for image_name in image_names:\n",
        "    img=load_img('drive/My Drive/Dataset/Test_detect/'+person+'/'+image_name,target_size=(224,224))\n",
        "    img=img_to_array(img)\n",
        "    img=np.expand_dims(img,axis=0)\n",
        "    img=preprocess_input(img)\n",
        "    img_encode=vgg_face(img)\n",
        "    x_test.append(np.squeeze(K.eval(img_encode)).tolist())\n",
        "    y_test.append(i)"
      ],
      "execution_count": null,
      "outputs": []
    },
    {
      "cell_type": "code",
      "metadata": {
        "id": "LcA2TFP6ndeg"
      },
      "source": [
        "x_test=np.array(x_test)\n",
        "y_test=np.array(y_test)"
      ],
      "execution_count": null,
      "outputs": []
    },
    {
      "cell_type": "code",
      "metadata": {
        "id": "9rTk10mIG46J"
      },
      "source": [
        "classifier_model=Sequential()\n",
        "classifier_model.add(Dense(units=1024,input_dim=x_train.shape[1],kernel_initializer='glorot_uniform'))\n",
        "classifier_model.add(BatchNormalization())\n",
        "classifier_model.add(Activation('relu'))\n",
        "classifier_model.add(Dropout(0.3))\n",
        "classifier_model.add(Dense(units=128,kernel_initializer='glorot_uniform'))\n",
        "classifier_model.add(BatchNormalization())\n",
        "classifier_model.add(Activation('relu'))\n",
        "classifier_model.add(Dropout(0.2))\n",
        "classifier_model.add(Dense(units=82,kernel_initializer='he_uniform'))\n",
        "classifier_model.add(Activation('softmax'))\n",
        "classifier_model.compile(loss=tf.keras.losses.SparseCategoricalCrossentropy(),optimizer='nadam',metrics=['accuracy'])"
      ],
      "execution_count": null,
      "outputs": []
    },
    {
      "cell_type": "code",
      "metadata": {
        "id": "Wk5hjLllG9DH",
        "colab": {
          "base_uri": "https://localhost:8080/",
          "height": 1000
        },
        "outputId": "de181ad0-cc92-46cb-9229-d86560ef1f67"
      },
      "source": [
        "history=classifier_model.fit(x_train,y_train,validation_data=(x_test,y_test),epochs=100)"
      ],
      "execution_count": null,
      "outputs": [
        {
          "output_type": "stream",
          "text": [
            "Epoch 1/100\n",
            "23/23 [==============================] - 1s 54ms/step - loss: 3.9088 - accuracy: 0.1619 - val_loss: 4.5839 - val_accuracy: 0.2946\n",
            "Epoch 2/100\n",
            "23/23 [==============================] - 1s 43ms/step - loss: 2.2273 - accuracy: 0.5633 - val_loss: 2.3210 - val_accuracy: 0.5426\n",
            "Epoch 3/100\n",
            "23/23 [==============================] - 1s 43ms/step - loss: 1.5191 - accuracy: 0.7633 - val_loss: 1.9687 - val_accuracy: 0.5659\n",
            "Epoch 4/100\n",
            "23/23 [==============================] - 1s 43ms/step - loss: 1.1205 - accuracy: 0.8721 - val_loss: 1.7703 - val_accuracy: 0.6512\n",
            "Epoch 5/100\n",
            "23/23 [==============================] - 1s 44ms/step - loss: 0.8328 - accuracy: 0.9170 - val_loss: 1.6873 - val_accuracy: 0.6977\n",
            "Epoch 6/100\n",
            "23/23 [==============================] - 1s 44ms/step - loss: 0.6121 - accuracy: 0.9469 - val_loss: 1.5745 - val_accuracy: 0.7054\n",
            "Epoch 7/100\n",
            "23/23 [==============================] - 1s 44ms/step - loss: 0.4780 - accuracy: 0.9701 - val_loss: 1.4914 - val_accuracy: 0.7364\n",
            "Epoch 8/100\n",
            "23/23 [==============================] - 1s 45ms/step - loss: 0.3481 - accuracy: 0.9850 - val_loss: 1.4931 - val_accuracy: 0.6977\n",
            "Epoch 9/100\n",
            "23/23 [==============================] - 1s 44ms/step - loss: 0.2665 - accuracy: 0.9837 - val_loss: 1.4123 - val_accuracy: 0.7054\n",
            "Epoch 10/100\n",
            "23/23 [==============================] - 1s 46ms/step - loss: 0.2431 - accuracy: 0.9959 - val_loss: 1.3513 - val_accuracy: 0.7519\n",
            "Epoch 11/100\n",
            "23/23 [==============================] - 1s 45ms/step - loss: 0.1881 - accuracy: 0.9973 - val_loss: 1.2594 - val_accuracy: 0.7287\n",
            "Epoch 12/100\n",
            "23/23 [==============================] - 1s 44ms/step - loss: 0.1504 - accuracy: 0.9959 - val_loss: 1.2438 - val_accuracy: 0.7209\n",
            "Epoch 13/100\n",
            "23/23 [==============================] - 1s 45ms/step - loss: 0.1171 - accuracy: 0.9986 - val_loss: 1.2248 - val_accuracy: 0.7674\n",
            "Epoch 14/100\n",
            "23/23 [==============================] - 1s 43ms/step - loss: 0.1053 - accuracy: 0.9986 - val_loss: 1.2122 - val_accuracy: 0.7519\n",
            "Epoch 15/100\n",
            "23/23 [==============================] - 1s 44ms/step - loss: 0.0835 - accuracy: 0.9986 - val_loss: 1.2010 - val_accuracy: 0.7519\n",
            "Epoch 16/100\n",
            "23/23 [==============================] - 1s 44ms/step - loss: 0.0819 - accuracy: 1.0000 - val_loss: 1.1067 - val_accuracy: 0.7519\n",
            "Epoch 17/100\n",
            "23/23 [==============================] - 1s 44ms/step - loss: 0.0688 - accuracy: 0.9986 - val_loss: 1.0986 - val_accuracy: 0.7752\n",
            "Epoch 18/100\n",
            "23/23 [==============================] - 1s 45ms/step - loss: 0.0540 - accuracy: 1.0000 - val_loss: 1.0701 - val_accuracy: 0.7597\n",
            "Epoch 19/100\n",
            "23/23 [==============================] - 1s 44ms/step - loss: 0.0485 - accuracy: 0.9986 - val_loss: 1.0697 - val_accuracy: 0.7442\n",
            "Epoch 20/100\n",
            "23/23 [==============================] - 1s 46ms/step - loss: 0.0439 - accuracy: 1.0000 - val_loss: 1.0445 - val_accuracy: 0.7442\n",
            "Epoch 21/100\n",
            "23/23 [==============================] - 1s 43ms/step - loss: 0.0413 - accuracy: 1.0000 - val_loss: 1.0031 - val_accuracy: 0.7829\n",
            "Epoch 22/100\n",
            "23/23 [==============================] - 1s 44ms/step - loss: 0.0371 - accuracy: 0.9986 - val_loss: 1.0130 - val_accuracy: 0.7907\n",
            "Epoch 23/100\n",
            "23/23 [==============================] - 1s 44ms/step - loss: 0.0319 - accuracy: 1.0000 - val_loss: 1.0115 - val_accuracy: 0.7674\n",
            "Epoch 24/100\n",
            "23/23 [==============================] - 1s 44ms/step - loss: 0.0291 - accuracy: 1.0000 - val_loss: 0.9951 - val_accuracy: 0.7752\n",
            "Epoch 25/100\n",
            "23/23 [==============================] - 1s 44ms/step - loss: 0.0289 - accuracy: 1.0000 - val_loss: 1.0056 - val_accuracy: 0.7984\n",
            "Epoch 26/100\n",
            "23/23 [==============================] - 1s 44ms/step - loss: 0.0243 - accuracy: 1.0000 - val_loss: 1.0237 - val_accuracy: 0.7829\n",
            "Epoch 27/100\n",
            "23/23 [==============================] - 1s 44ms/step - loss: 0.0243 - accuracy: 1.0000 - val_loss: 1.0313 - val_accuracy: 0.7752\n",
            "Epoch 28/100\n",
            "23/23 [==============================] - 1s 44ms/step - loss: 0.0230 - accuracy: 1.0000 - val_loss: 1.0009 - val_accuracy: 0.7597\n",
            "Epoch 29/100\n",
            "23/23 [==============================] - 1s 43ms/step - loss: 0.0277 - accuracy: 1.0000 - val_loss: 0.9786 - val_accuracy: 0.7907\n",
            "Epoch 30/100\n",
            "23/23 [==============================] - 1s 44ms/step - loss: 0.0230 - accuracy: 0.9986 - val_loss: 0.9855 - val_accuracy: 0.7829\n",
            "Epoch 31/100\n",
            "23/23 [==============================] - 1s 45ms/step - loss: 0.0242 - accuracy: 1.0000 - val_loss: 0.9959 - val_accuracy: 0.7752\n",
            "Epoch 32/100\n",
            "23/23 [==============================] - 1s 44ms/step - loss: 0.0204 - accuracy: 1.0000 - val_loss: 0.9853 - val_accuracy: 0.7597\n",
            "Epoch 33/100\n",
            "23/23 [==============================] - 1s 44ms/step - loss: 0.0198 - accuracy: 1.0000 - val_loss: 0.9866 - val_accuracy: 0.7829\n",
            "Epoch 34/100\n",
            "23/23 [==============================] - 1s 45ms/step - loss: 0.0192 - accuracy: 1.0000 - val_loss: 0.9990 - val_accuracy: 0.7984\n",
            "Epoch 35/100\n",
            "23/23 [==============================] - 1s 44ms/step - loss: 0.0172 - accuracy: 1.0000 - val_loss: 0.9911 - val_accuracy: 0.7752\n",
            "Epoch 36/100\n",
            "23/23 [==============================] - 1s 44ms/step - loss: 0.0148 - accuracy: 1.0000 - val_loss: 1.0384 - val_accuracy: 0.7829\n",
            "Epoch 37/100\n",
            "23/23 [==============================] - 1s 43ms/step - loss: 0.0159 - accuracy: 1.0000 - val_loss: 1.0763 - val_accuracy: 0.7364\n",
            "Epoch 38/100\n",
            "23/23 [==============================] - 1s 46ms/step - loss: 0.0163 - accuracy: 0.9986 - val_loss: 0.9944 - val_accuracy: 0.7752\n",
            "Epoch 39/100\n",
            "23/23 [==============================] - 1s 44ms/step - loss: 0.0112 - accuracy: 1.0000 - val_loss: 0.9998 - val_accuracy: 0.7674\n",
            "Epoch 40/100\n",
            "23/23 [==============================] - 1s 45ms/step - loss: 0.0141 - accuracy: 1.0000 - val_loss: 1.0011 - val_accuracy: 0.7597\n",
            "Epoch 41/100\n",
            "23/23 [==============================] - 1s 44ms/step - loss: 0.0136 - accuracy: 1.0000 - val_loss: 1.0177 - val_accuracy: 0.7674\n",
            "Epoch 42/100\n",
            "23/23 [==============================] - 1s 44ms/step - loss: 0.0146 - accuracy: 1.0000 - val_loss: 0.9931 - val_accuracy: 0.7829\n",
            "Epoch 43/100\n",
            "23/23 [==============================] - 1s 43ms/step - loss: 0.0143 - accuracy: 1.0000 - val_loss: 1.0140 - val_accuracy: 0.7674\n",
            "Epoch 44/100\n",
            "23/23 [==============================] - 1s 44ms/step - loss: 0.0111 - accuracy: 1.0000 - val_loss: 0.9561 - val_accuracy: 0.7752\n",
            "Epoch 45/100\n",
            "23/23 [==============================] - 1s 44ms/step - loss: 0.0101 - accuracy: 1.0000 - val_loss: 0.9794 - val_accuracy: 0.7752\n",
            "Epoch 46/100\n",
            "23/23 [==============================] - 1s 44ms/step - loss: 0.0093 - accuracy: 1.0000 - val_loss: 0.9453 - val_accuracy: 0.7907\n",
            "Epoch 47/100\n",
            "23/23 [==============================] - 1s 44ms/step - loss: 0.0104 - accuracy: 1.0000 - val_loss: 0.9302 - val_accuracy: 0.7984\n",
            "Epoch 48/100\n",
            "23/23 [==============================] - 1s 44ms/step - loss: 0.0081 - accuracy: 1.0000 - val_loss: 0.9627 - val_accuracy: 0.7907\n",
            "Epoch 49/100\n",
            "23/23 [==============================] - 1s 44ms/step - loss: 0.0074 - accuracy: 1.0000 - val_loss: 0.9562 - val_accuracy: 0.7984\n",
            "Epoch 50/100\n",
            "23/23 [==============================] - 1s 44ms/step - loss: 0.0077 - accuracy: 1.0000 - val_loss: 0.9541 - val_accuracy: 0.7984\n",
            "Epoch 51/100\n",
            "23/23 [==============================] - 1s 44ms/step - loss: 0.0070 - accuracy: 1.0000 - val_loss: 0.9375 - val_accuracy: 0.7907\n",
            "Epoch 52/100\n",
            "23/23 [==============================] - 1s 44ms/step - loss: 0.0079 - accuracy: 1.0000 - val_loss: 0.9611 - val_accuracy: 0.7829\n",
            "Epoch 53/100\n",
            "23/23 [==============================] - 1s 44ms/step - loss: 0.0065 - accuracy: 1.0000 - val_loss: 0.9553 - val_accuracy: 0.7752\n",
            "Epoch 54/100\n",
            "23/23 [==============================] - 1s 45ms/step - loss: 0.0050 - accuracy: 1.0000 - val_loss: 0.9281 - val_accuracy: 0.7907\n",
            "Epoch 55/100\n",
            "23/23 [==============================] - 1s 45ms/step - loss: 0.0053 - accuracy: 1.0000 - val_loss: 0.9379 - val_accuracy: 0.7907\n",
            "Epoch 56/100\n",
            "23/23 [==============================] - 1s 43ms/step - loss: 0.0055 - accuracy: 1.0000 - val_loss: 0.9622 - val_accuracy: 0.7907\n",
            "Epoch 57/100\n",
            "23/23 [==============================] - 1s 45ms/step - loss: 0.0052 - accuracy: 1.0000 - val_loss: 0.9738 - val_accuracy: 0.7829\n",
            "Epoch 58/100\n",
            "23/23 [==============================] - 1s 44ms/step - loss: 0.0057 - accuracy: 1.0000 - val_loss: 0.9859 - val_accuracy: 0.7829\n",
            "Epoch 59/100\n",
            "23/23 [==============================] - 1s 45ms/step - loss: 0.0044 - accuracy: 1.0000 - val_loss: 0.9718 - val_accuracy: 0.7907\n",
            "Epoch 60/100\n",
            "23/23 [==============================] - 1s 44ms/step - loss: 0.0059 - accuracy: 1.0000 - val_loss: 0.9831 - val_accuracy: 0.7829\n",
            "Epoch 61/100\n",
            "23/23 [==============================] - 1s 44ms/step - loss: 0.0051 - accuracy: 1.0000 - val_loss: 0.9525 - val_accuracy: 0.7752\n",
            "Epoch 62/100\n",
            "23/23 [==============================] - 1s 43ms/step - loss: 0.0069 - accuracy: 1.0000 - val_loss: 0.9454 - val_accuracy: 0.8062\n",
            "Epoch 63/100\n",
            "23/23 [==============================] - 1s 45ms/step - loss: 0.0050 - accuracy: 1.0000 - val_loss: 0.9449 - val_accuracy: 0.7984\n",
            "Epoch 64/100\n",
            "23/23 [==============================] - 1s 44ms/step - loss: 0.0042 - accuracy: 1.0000 - val_loss: 0.9616 - val_accuracy: 0.7984\n",
            "Epoch 65/100\n",
            "23/23 [==============================] - 1s 45ms/step - loss: 0.0046 - accuracy: 1.0000 - val_loss: 0.9817 - val_accuracy: 0.8062\n",
            "Epoch 66/100\n",
            "23/23 [==============================] - 1s 45ms/step - loss: 0.0040 - accuracy: 1.0000 - val_loss: 0.9622 - val_accuracy: 0.7829\n",
            "Epoch 67/100\n",
            "23/23 [==============================] - 1s 49ms/step - loss: 0.0039 - accuracy: 1.0000 - val_loss: 0.9476 - val_accuracy: 0.7907\n",
            "Epoch 68/100\n",
            "23/23 [==============================] - 1s 48ms/step - loss: 0.0048 - accuracy: 1.0000 - val_loss: 1.0099 - val_accuracy: 0.7674\n",
            "Epoch 69/100\n",
            "23/23 [==============================] - 1s 43ms/step - loss: 0.0038 - accuracy: 1.0000 - val_loss: 1.0231 - val_accuracy: 0.7597\n",
            "Epoch 70/100\n",
            "23/23 [==============================] - 1s 44ms/step - loss: 0.0037 - accuracy: 1.0000 - val_loss: 0.9733 - val_accuracy: 0.7907\n",
            "Epoch 71/100\n",
            "23/23 [==============================] - 1s 44ms/step - loss: 0.0041 - accuracy: 1.0000 - val_loss: 0.9871 - val_accuracy: 0.7907\n",
            "Epoch 72/100\n",
            "23/23 [==============================] - 1s 44ms/step - loss: 0.0032 - accuracy: 1.0000 - val_loss: 0.9745 - val_accuracy: 0.7907\n",
            "Epoch 73/100\n",
            "23/23 [==============================] - 1s 45ms/step - loss: 0.0038 - accuracy: 1.0000 - val_loss: 0.9638 - val_accuracy: 0.7829\n",
            "Epoch 74/100\n",
            "23/23 [==============================] - 1s 43ms/step - loss: 0.0023 - accuracy: 1.0000 - val_loss: 0.9633 - val_accuracy: 0.7984\n",
            "Epoch 75/100\n",
            "23/23 [==============================] - 1s 44ms/step - loss: 0.0032 - accuracy: 1.0000 - val_loss: 0.9459 - val_accuracy: 0.8062\n",
            "Epoch 76/100\n",
            "23/23 [==============================] - 1s 44ms/step - loss: 0.0033 - accuracy: 1.0000 - val_loss: 0.9592 - val_accuracy: 0.7984\n",
            "Epoch 77/100\n",
            "23/23 [==============================] - 1s 44ms/step - loss: 0.0028 - accuracy: 1.0000 - val_loss: 0.9619 - val_accuracy: 0.7984\n",
            "Epoch 78/100\n",
            "23/23 [==============================] - 1s 44ms/step - loss: 0.0032 - accuracy: 1.0000 - val_loss: 0.9530 - val_accuracy: 0.7907\n",
            "Epoch 79/100\n",
            "23/23 [==============================] - 1s 44ms/step - loss: 0.0028 - accuracy: 1.0000 - val_loss: 0.9651 - val_accuracy: 0.7984\n",
            "Epoch 80/100\n",
            "23/23 [==============================] - 1s 45ms/step - loss: 0.0028 - accuracy: 1.0000 - val_loss: 0.9746 - val_accuracy: 0.7907\n",
            "Epoch 81/100\n",
            "23/23 [==============================] - 1s 44ms/step - loss: 0.0028 - accuracy: 1.0000 - val_loss: 0.9812 - val_accuracy: 0.7829\n",
            "Epoch 82/100\n",
            "23/23 [==============================] - 1s 45ms/step - loss: 0.0024 - accuracy: 1.0000 - val_loss: 0.9866 - val_accuracy: 0.7984\n",
            "Epoch 83/100\n",
            "23/23 [==============================] - 1s 44ms/step - loss: 0.0023 - accuracy: 1.0000 - val_loss: 0.9874 - val_accuracy: 0.7907\n",
            "Epoch 84/100\n",
            "23/23 [==============================] - 1s 44ms/step - loss: 0.0022 - accuracy: 1.0000 - val_loss: 0.9935 - val_accuracy: 0.7597\n",
            "Epoch 85/100\n",
            "23/23 [==============================] - 1s 44ms/step - loss: 0.0019 - accuracy: 1.0000 - val_loss: 0.9945 - val_accuracy: 0.7597\n",
            "Epoch 86/100\n",
            "23/23 [==============================] - 1s 44ms/step - loss: 0.0022 - accuracy: 1.0000 - val_loss: 0.9794 - val_accuracy: 0.7752\n",
            "Epoch 87/100\n",
            "23/23 [==============================] - 1s 44ms/step - loss: 0.0022 - accuracy: 1.0000 - val_loss: 0.9790 - val_accuracy: 0.7752\n",
            "Epoch 88/100\n",
            "23/23 [==============================] - 1s 44ms/step - loss: 0.0024 - accuracy: 1.0000 - val_loss: 0.9681 - val_accuracy: 0.7752\n",
            "Epoch 89/100\n",
            "23/23 [==============================] - 1s 43ms/step - loss: 0.0026 - accuracy: 1.0000 - val_loss: 0.9976 - val_accuracy: 0.7519\n",
            "Epoch 90/100\n",
            "23/23 [==============================] - 2s 73ms/step - loss: 0.0022 - accuracy: 1.0000 - val_loss: 0.9882 - val_accuracy: 0.7829\n",
            "Epoch 91/100\n",
            "23/23 [==============================] - 2s 70ms/step - loss: 0.0021 - accuracy: 1.0000 - val_loss: 0.9935 - val_accuracy: 0.7829\n",
            "Epoch 92/100\n",
            "23/23 [==============================] - 2s 70ms/step - loss: 0.0019 - accuracy: 1.0000 - val_loss: 0.9913 - val_accuracy: 0.7752\n",
            "Epoch 93/100\n",
            "23/23 [==============================] - 2s 71ms/step - loss: 0.0016 - accuracy: 1.0000 - val_loss: 0.9664 - val_accuracy: 0.7829\n",
            "Epoch 94/100\n",
            "23/23 [==============================] - 1s 52ms/step - loss: 0.0020 - accuracy: 1.0000 - val_loss: 0.9872 - val_accuracy: 0.7752\n",
            "Epoch 95/100\n",
            "23/23 [==============================] - 1s 45ms/step - loss: 0.0018 - accuracy: 1.0000 - val_loss: 0.9813 - val_accuracy: 0.7674\n",
            "Epoch 96/100\n",
            "23/23 [==============================] - 1s 44ms/step - loss: 0.0018 - accuracy: 1.0000 - val_loss: 0.9594 - val_accuracy: 0.7674\n",
            "Epoch 97/100\n",
            "23/23 [==============================] - 1s 43ms/step - loss: 0.0014 - accuracy: 1.0000 - val_loss: 0.9473 - val_accuracy: 0.7829\n",
            "Epoch 98/100\n",
            "23/23 [==============================] - 1s 44ms/step - loss: 0.0017 - accuracy: 1.0000 - val_loss: 0.9567 - val_accuracy: 0.7984\n",
            "Epoch 99/100\n",
            "23/23 [==============================] - 1s 44ms/step - loss: 0.0015 - accuracy: 1.0000 - val_loss: 0.9375 - val_accuracy: 0.7907\n",
            "Epoch 100/100\n",
            "23/23 [==============================] - 1s 44ms/step - loss: 0.0016 - accuracy: 1.0000 - val_loss: 0.9318 - val_accuracy: 0.7829\n"
          ],
          "name": "stdout"
        }
      ]
    },
    {
      "cell_type": "code",
      "metadata": {
        "id": "jVZ0Z6UdiS6J",
        "colab": {
          "base_uri": "https://localhost:8080/",
          "height": 35
        },
        "outputId": "31b87f9d-9ede-456d-acd5-64ba1f83aced"
      },
      "source": [
        "_,train_acc=classifier_model.evaluate(x_train,y_train,verbose=0)\n",
        "_,test_acc=classifier_model.evaluate(x_test,y_test,verbose=0)\n",
        "print('Train:%.3f, Test:%.3f'%(train_acc*100,test_acc*100))"
      ],
      "execution_count": null,
      "outputs": [
        {
          "output_type": "stream",
          "text": [
            "Train:100.000, Test:78.295\n"
          ],
          "name": "stdout"
        }
      ]
    },
    {
      "cell_type": "code",
      "metadata": {
        "id": "jxs7AgJyHJJP"
      },
      "source": [
        "pixels = load_img('drive/My Drive/Dataset/Test_detect/13/013A30.JPG',target_size=(224,224))\n",
        "pixels = img_to_array(pixels)\n",
        "samples = np.expand_dims(pixels, axis=0)\n",
        "samples = preprocess_input(samples)\n",
        "pixels_encode=vgg_face(samples)"
      ],
      "execution_count": null,
      "outputs": []
    },
    {
      "cell_type": "code",
      "metadata": {
        "id": "1BwCaLPdH-ri",
        "colab": {
          "base_uri": "https://localhost:8080/",
          "height": 35
        },
        "outputId": "e6b01020-299a-4a55-cab5-b564e9582764"
      },
      "source": [
        "per=np.argmax(classifier_model.predict(pixels_encode),axis=-1)\n",
        "print(per)"
      ],
      "execution_count": null,
      "outputs": [
        {
          "output_type": "stream",
          "text": [
            "[11]\n"
          ],
          "name": "stdout"
        }
      ]
    },
    {
      "cell_type": "code",
      "metadata": {
        "id": "Pu6SD5t4wPxQ",
        "colab": {
          "base_uri": "https://localhost:8080/",
          "height": 35
        },
        "outputId": "0a0ee6cb-cba1-44da-e018-f7d1b785ad02"
      },
      "source": [
        "from sklearn.neighbors import KNeighborsClassifier\n",
        "knn=KNeighborsClassifier(n_neighbors=1).fit(x_train,y_train)\n",
        "\n",
        "accuracy=knn.score(x_test,y_test)\n",
        "print(accuracy)"
      ],
      "execution_count": null,
      "outputs": [
        {
          "output_type": "stream",
          "text": [
            "0.6666666666666666\n"
          ],
          "name": "stdout"
        }
      ]
    },
    {
      "cell_type": "code",
      "metadata": {
        "id": "G9ZQWeF0xMsr",
        "colab": {
          "base_uri": "https://localhost:8080/",
          "height": 126
        },
        "outputId": "ebdfbf9b-6802-4fe4-fa09-84335a030b76"
      },
      "source": [
        "print(y_test)"
      ],
      "execution_count": null,
      "outputs": [
        {
          "output_type": "stream",
          "text": [
            "[ 0  0  1  1  2  2  3  3  4  5  5  6  6  7  7  8  9  9 10 10 11 11 12 13\n",
            " 14 14 15 15 16 16 17 18 18 19 19 20 21 21 22 23 23 24 24 26 27 27 28 29\n",
            " 29 30 30 31 32 32 33 33 34 34 35 35 36 36 37 37 38 38 39 40 41 41 42 42\n",
            " 43 43 44 45 45 46 46 47 47 48 49 49 50 51 51 52 52 53 54 55 56 57 58 59\n",
            " 60 60 62 63 63 64 64 65 66 67 68 69 69 70 70 71 71 72 73 73 74 75 76 76\n",
            " 77 77 78 78 79 80 80 81 81]\n"
          ],
          "name": "stdout"
        }
      ]
    },
    {
      "cell_type": "code",
      "metadata": {
        "id": "8cUlhHHkEgZr",
        "colab": {
          "base_uri": "https://localhost:8080/",
          "height": 35
        },
        "outputId": "76cea388-bdc8-4fd4-dac9-35ea527825e9"
      },
      "source": [
        "from sklearn.svm import SVC\n",
        "from sklearn.metrics import accuracy_score\n",
        "svmmodel=SVC(kernel='linear')\n",
        "svmmodel.fit(x_train,y_train)\n",
        "yhat_train=svmmodel.predict(x_train)\n",
        "yhat_test=svmmodel.predict(x_test)\n",
        "score_train=accuracy_score(y_train,yhat_train)\n",
        "score_test=accuracy_score(y_test,yhat_test)\n",
        "print('Accuracy: train=%.3f , test=%.3f' %(score_train*100, score_test*100))\n"
      ],
      "execution_count": null,
      "outputs": [
        {
          "output_type": "stream",
          "text": [
            "Accuracy: train=100.000 , test=71.318\n"
          ],
          "name": "stdout"
        }
      ]
    }
  ]
}
